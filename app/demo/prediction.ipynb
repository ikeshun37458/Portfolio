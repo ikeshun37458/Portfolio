{
 "cells": [
  {
   "cell_type": "code",
   "execution_count": 4,
   "id": "9d1f9ee8-8ce8-442d-9a33-ce61372822a2",
   "metadata": {},
   "outputs": [],
   "source": [
    "import glob\n",
    "import os\n",
    "import re\n",
    "import chardet\n",
    "import numpy as np\n",
    "import pandas as pd\n",
    "import streamlit as st\n",
    "from sklearn.preprocessing import MinMaxScaler\n",
    "import tensorflow as tf"
   ]
  },
  {
   "cell_type": "code",
   "execution_count": 23,
   "id": "92f51c43-a8e2-4cef-a7c6-a8695806aaeb",
   "metadata": {},
   "outputs": [],
   "source": [
    "# 過去の数ヶ月(step)分のデータとその直後のデータを作成\n",
    "def sequences(data, step):\n",
    "    X, Y = [], []\n",
    "    for i in range(len(data) - step):\n",
    "        X_seq, Y_seq = data[i:i+step], data[i+step]\n",
    "        X.append(X_seq)\n",
    "        Y.append(Y_seq)\n",
    "    return np.array(X), np.array(Y)"
   ]
  },
  {
   "cell_type": "code",
   "execution_count": 8,
   "id": "b8e93dad-5be2-4f31-8e05-9ce6ec2c46df",
   "metadata": {},
   "outputs": [
    {
     "data": {
      "text/html": [
       "<div>\n",
       "<style scoped>\n",
       "    .dataframe tbody tr th:only-of-type {\n",
       "        vertical-align: middle;\n",
       "    }\n",
       "\n",
       "    .dataframe tbody tr th {\n",
       "        vertical-align: top;\n",
       "    }\n",
       "\n",
       "    .dataframe thead th {\n",
       "        text-align: right;\n",
       "    }\n",
       "</style>\n",
       "<table border=\"1\" class=\"dataframe\">\n",
       "  <thead>\n",
       "    <tr style=\"text-align: right;\">\n",
       "      <th></th>\n",
       "      <th>year-month</th>\n",
       "      <th>category</th>\n",
       "      <th>expen_cate</th>\n",
       "    </tr>\n",
       "  </thead>\n",
       "  <tbody>\n",
       "    <tr>\n",
       "      <th>0</th>\n",
       "      <td>2022-04</td>\n",
       "      <td>その他</td>\n",
       "      <td>44444</td>\n",
       "    </tr>\n",
       "    <tr>\n",
       "      <th>1</th>\n",
       "      <td>2022-04</td>\n",
       "      <td>エンタメ</td>\n",
       "      <td>4256</td>\n",
       "    </tr>\n",
       "    <tr>\n",
       "      <th>2</th>\n",
       "      <td>2022-04</td>\n",
       "      <td>クルマ</td>\n",
       "      <td>6100</td>\n",
       "    </tr>\n",
       "    <tr>\n",
       "      <th>3</th>\n",
       "      <td>2022-04</td>\n",
       "      <td>交際費</td>\n",
       "      <td>2013</td>\n",
       "    </tr>\n",
       "    <tr>\n",
       "      <th>4</th>\n",
       "      <td>2022-04</td>\n",
       "      <td>住まい</td>\n",
       "      <td>110488</td>\n",
       "    </tr>\n",
       "    <tr>\n",
       "      <th>...</th>\n",
       "      <td>...</td>\n",
       "      <td>...</td>\n",
       "      <td>...</td>\n",
       "    </tr>\n",
       "    <tr>\n",
       "      <th>298</th>\n",
       "      <td>2024-11</td>\n",
       "      <td>住まい</td>\n",
       "      <td>96532</td>\n",
       "    </tr>\n",
       "    <tr>\n",
       "      <th>299</th>\n",
       "      <td>2024-11</td>\n",
       "      <td>日用雑貨</td>\n",
       "      <td>1254</td>\n",
       "    </tr>\n",
       "    <tr>\n",
       "      <th>300</th>\n",
       "      <td>2024-11</td>\n",
       "      <td>水道・光熱</td>\n",
       "      <td>7460</td>\n",
       "    </tr>\n",
       "    <tr>\n",
       "      <th>301</th>\n",
       "      <td>2024-11</td>\n",
       "      <td>美容・衣服</td>\n",
       "      <td>15815</td>\n",
       "    </tr>\n",
       "    <tr>\n",
       "      <th>302</th>\n",
       "      <td>2024-11</td>\n",
       "      <td>食費</td>\n",
       "      <td>9231</td>\n",
       "    </tr>\n",
       "  </tbody>\n",
       "</table>\n",
       "<p>303 rows × 3 columns</p>\n",
       "</div>"
      ],
      "text/plain": [
       "    year-month category  expen_cate\n",
       "0      2022-04      その他       44444\n",
       "1      2022-04     エンタメ        4256\n",
       "2      2022-04      クルマ        6100\n",
       "3      2022-04      交際費        2013\n",
       "4      2022-04      住まい      110488\n",
       "..         ...      ...         ...\n",
       "298    2024-11      住まい       96532\n",
       "299    2024-11     日用雑貨        1254\n",
       "300    2024-11    水道・光熱        7460\n",
       "301    2024-11    美容・衣服       15815\n",
       "302    2024-11       食費        9231\n",
       "\n",
       "[303 rows x 3 columns]"
      ]
     },
     "execution_count": 8,
     "metadata": {},
     "output_type": "execute_result"
    }
   ],
   "source": [
    "files = glob.glob(f\"Zaim*.csv\")\n",
    "for file_path in files:\n",
    "    # エンコーディングを確認\n",
    "    with open(file_path, \"rb\") as f:\n",
    "        result = chardet.detect(f.read())\n",
    "        encoding = result[\"encoding\"]\n",
    "    df_org = pd.read_csv(file_path, encoding=encoding)\n",
    "\n",
    "df_org[\"日付\"] = df_org[\"日付\"].apply(lambda x: x[:7])\n",
    "df_org[[\"year\", \"month\"]] = df_org[\"日付\"].str.split(\"-\", expand=True)\n",
    "\n",
    "df_org = df_org.rename(columns={\n",
    "    \"日付\": \"year-month\",\n",
    "    \"カテゴリ\": \"category\",\n",
    "    \"カテゴリの内訳\": \"sub_category\",\n",
    "    \"支出\": \"expenses\"\n",
    "})\n",
    "df_org = df_org[[\n",
    "    \"year-month\",\n",
    "    \"category\",\n",
    "    \"sub_category\",\n",
    "    \"expenses\"\n",
    "]]\n",
    "\n",
    "df_org = df_org[df_org[\"expenses\"] > 0]\n",
    "\n",
    "# 年月のリスト\n",
    "date_list = df_org[\"year-month\"].unique()\n",
    "\n",
    "# 大カテゴリのDataFrameを作成→保持\n",
    "df_all_cate = pd.DataFrame()\n",
    "for date in date_list:\n",
    "    df_filtered = df_org[df_org[\"year-month\"] == date]\n",
    "    df_total_cate = df_filtered.copy()\n",
    "    \n",
    "    df_total_cate[\"expen_cate\"] = df_filtered.groupby(\"category\")[\"expenses\"].transform(\"sum\")\n",
    "    df_total_cate = df_total_cate.drop_duplicates(subset=[\"category\"])\n",
    "    \n",
    "    df_total_cate = df_total_cate.sort_values(by=[\"category\"])\n",
    "    df_total_cate = df_total_cate.drop([\"expenses\", \"sub_category\"], axis=1)\n",
    "    df_all_cate = pd.concat([df_all_cate, df_total_cate], ignore_index=True)\n",
    "\n",
    "df_all_cate"
   ]
  },
  {
   "cell_type": "code",
   "execution_count": 47,
   "id": "75022b63-2171-4e0e-a956-afb71d542a80",
   "metadata": {},
   "outputs": [
    {
     "name": "stdout",
     "output_type": "stream",
     "text": [
      "2024-12\n",
      "その他\n",
      "    year-month category  expen_cate\n",
      "193    2023-12      その他      263400\n",
      "204    2024-01      その他       80655\n",
      "214    2024-02      その他       85168\n",
      "223    2024-03      その他      106703\n",
      "232    2024-04      その他       69574\n",
      "241    2024-05      その他       95268\n",
      "251    2024-06      その他       67512\n",
      "260    2024-07      その他      122024\n",
      "269    2024-08      その他      117150\n",
      "277    2024-09      その他       72940\n",
      "286    2024-10      その他      115720\n",
      "294    2024-11      その他      116702\n",
      "エンタメ\n",
      "    year-month category  expen_cate\n",
      "194    2023-12     エンタメ       10992\n",
      "205    2024-01     エンタメ       33800\n",
      "215    2024-02     エンタメ        1195\n",
      "224    2024-03     エンタメ        9042\n",
      "233    2024-04     エンタメ        2659\n",
      "242    2024-05     エンタメ        9982\n",
      "252    2024-06     エンタメ       17776\n",
      "261    2024-07     エンタメ        7062\n",
      "270    2024-08     エンタメ       10550\n",
      "278    2024-09     エンタメ        2937\n",
      "287    2024-10     エンタメ        6377\n",
      "295    2024-11     エンタメ        7822\n",
      "クルマ\n",
      "    year-month category  expen_cate\n",
      "35     2022-07      クルマ        4000\n",
      "44     2022-08      クルマ        6000\n",
      "54     2022-09      クルマ        3220\n",
      "65     2022-10      クルマ        3000\n",
      "74     2022-11      クルマ        3000\n",
      "84     2022-12      クルマ        4000\n",
      "93     2023-01      クルマ        3000\n",
      "102    2023-02      クルマ        3000\n",
      "111    2023-03      クルマ        3000\n",
      "128    2023-05      クルマ       10800\n",
      "137    2023-06      クルマ        3800\n",
      "195    2023-12      クルマ        4250\n",
      "交際費\n",
      "    year-month category  expen_cate\n",
      "197    2023-12      交際費       29915\n",
      "207    2024-01      交際費        2500\n",
      "217    2024-02      交際費        1000\n",
      "226    2024-03      交際費       23053\n",
      "235    2024-04      交際費        6562\n",
      "244    2024-05      交際費       11350\n",
      "254    2024-06      交際費         800\n",
      "263    2024-07      交際費       11100\n",
      "272    2024-08      交際費       21640\n",
      "280    2024-09      交際費       15671\n",
      "288    2024-10      交際費        1000\n",
      "297    2024-11      交際費       11000\n",
      "住まい\n",
      "    year-month category  expen_cate\n",
      "198    2023-12      住まい       93217\n",
      "208    2024-01      住まい      130738\n",
      "218    2024-02      住まい       83476\n",
      "227    2024-03      住まい      145898\n",
      "236    2024-04      住まい       93930\n",
      "245    2024-05      住まい       77130\n",
      "255    2024-06      住まい       77130\n",
      "264    2024-07      住まい       94539\n",
      "273    2024-08      住まい      108005\n",
      "281    2024-09      住まい       77130\n",
      "289    2024-10      住まい       77130\n",
      "298    2024-11      住まい       96532\n",
      "教育・教養\n",
      "    year-month category  expen_cate\n",
      "6      2022-04    教育・教養        1600\n",
      "17     2022-05    教育・教養        2163\n",
      "28     2022-06    教育・教養        8900\n",
      "47     2022-08    教育・教養       29485\n",
      "58     2022-09    教育・教養        1990\n",
      "122    2023-04    教育・教養       42900\n",
      "131    2023-05    教育・教養        1200\n",
      "151    2023-07    教育・教養        1500\n",
      "171    2023-09    教育・教養        1500\n",
      "199    2023-12    教育・教養       13200\n",
      "209    2024-01    教育・教養        2229\n",
      "265    2024-07    教育・教養        1500\n",
      "日用雑貨\n",
      "    year-month category  expen_cate\n",
      "200    2023-12     日用雑貨        1135\n",
      "210    2024-01     日用雑貨        2999\n",
      "220    2024-02     日用雑貨         500\n",
      "228    2024-03     日用雑貨        1785\n",
      "237    2024-04     日用雑貨       12368\n",
      "246    2024-05     日用雑貨        5304\n",
      "256    2024-06     日用雑貨        2609\n",
      "266    2024-07     日用雑貨        1916\n",
      "274    2024-08     日用雑貨         110\n",
      "282    2024-09     日用雑貨        5311\n",
      "290    2024-10     日用雑貨       10452\n",
      "299    2024-11     日用雑貨        1254\n",
      "水道・光熱\n",
      "    year-month category  expen_cate\n",
      "201    2023-12    水道・光熱        3196\n",
      "211    2024-01    水道・光熱        6911\n",
      "221    2024-02    水道・光熱        2851\n",
      "229    2024-03    水道・光熱        7016\n",
      "238    2024-04    水道・光熱        3232\n",
      "247    2024-05    水道・光熱        7180\n",
      "257    2024-06    水道・光熱        3370\n",
      "267    2024-07    水道・光熱        7109\n",
      "275    2024-08    水道・光熱        4124\n",
      "283    2024-09    水道・光熱        7006\n",
      "291    2024-10    水道・光熱        3748\n",
      "300    2024-11    水道・光熱        7460\n",
      "美容・衣服\n",
      "    year-month category  expen_cate\n",
      "173    2023-09    美容・衣服        7220\n",
      "182    2023-10    美容・衣服       14320\n",
      "191    2023-11    美容・衣服       14150\n",
      "202    2023-12    美容・衣服       22750\n",
      "212    2024-01    美容・衣服       64531\n",
      "230    2024-03    美容・衣服        5500\n",
      "239    2024-04    美容・衣服       41133\n",
      "249    2024-05    美容・衣服       17641\n",
      "258    2024-06    美容・衣服        5500\n",
      "284    2024-09    美容・衣服        4500\n",
      "292    2024-10    美容・衣服        5720\n",
      "301    2024-11    美容・衣服       15815\n",
      "食費\n",
      "    year-month category  expen_cate\n",
      "203    2023-12       食費        5886\n",
      "213    2024-01       食費        3809\n",
      "222    2024-02       食費        6887\n",
      "231    2024-03       食費        7726\n",
      "240    2024-04       食費        8549\n",
      "250    2024-05       食費        6710\n",
      "259    2024-06       食費        8356\n",
      "268    2024-07       食費        6456\n",
      "276    2024-08       食費        9997\n",
      "285    2024-09       食費        8831\n",
      "293    2024-10       食費        9964\n",
      "302    2024-11       食費        9231\n",
      "交通\n",
      "    year-month category  expen_cate\n",
      "186    2023-11       交通        1441\n",
      "196    2023-12       交通       17759\n",
      "206    2024-01       交通      102030\n",
      "216    2024-02       交通        1196\n",
      "225    2024-03       交通         416\n",
      "234    2024-04       交通         983\n",
      "243    2024-05       交通        1314\n",
      "253    2024-06       交通         360\n",
      "262    2024-07       交通       34279\n",
      "271    2024-08       交通       79689\n",
      "279    2024-09       交通         334\n",
      "296    2024-11       交通         798\n"
     ]
    }
   ],
   "source": [
    "last_month = df_all_cate[\"year-month\"].iloc[-1]\n",
    "year, month = int(last_month[:4]), int(last_month[5:7])\n",
    "\n",
    "# 来月の年月を取得\n",
    "if month == 12:\n",
    "    month = 1\n",
    "    year += 1\n",
    "else:\n",
    "    month += 1\n",
    "next_month = f\"{year}-{month:02d}\"\n",
    "\n",
    "print(next_month)\n",
    "\n",
    "\n",
    "df_pred = pd.DataFrame(columns=[\"category\", \"prediction\"])\n",
    "cate_list = df_all_cate[\"category\"].unique()\n",
    "\n",
    "for target_cate in cate_list:\n",
    "    data_cate = df_all_cate[df_all_cate[\"category\"].str.contains(target_cate)].iloc[-12:].copy()\n",
    "    expen_cate = data_cate[\"expen_cate\"].values.reshape(-1, 1)\n",
    "\n",
    "    # 正規化\n",
    "    scaler = MinMaxScaler(feature_range=(0, 1))\n",
    "    scaled_data = scaler.fit_transform(expen_cate)\n",
    "    if len(expen_cate) < 12:\n",
    "        continue\n",
    "    # else:\n",
    "    print(target_cate)\n",
    "    print(data_cate)"
   ]
  },
  {
   "cell_type": "code",
   "execution_count": 43,
   "id": "e1f6401b-0df0-4f4a-a7b7-bda9c04d2971",
   "metadata": {},
   "outputs": [
    {
     "data": {
      "text/html": [
       "<div>\n",
       "<style scoped>\n",
       "    .dataframe tbody tr th:only-of-type {\n",
       "        vertical-align: middle;\n",
       "    }\n",
       "\n",
       "    .dataframe tbody tr th {\n",
       "        vertical-align: top;\n",
       "    }\n",
       "\n",
       "    .dataframe thead th {\n",
       "        text-align: right;\n",
       "    }\n",
       "</style>\n",
       "<table border=\"1\" class=\"dataframe\">\n",
       "  <thead>\n",
       "    <tr style=\"text-align: right;\">\n",
       "      <th></th>\n",
       "      <th>year-month</th>\n",
       "      <th>category</th>\n",
       "      <th>expen_cate</th>\n",
       "    </tr>\n",
       "  </thead>\n",
       "  <tbody>\n",
       "    <tr>\n",
       "      <th>155</th>\n",
       "      <td>2023-07</td>\n",
       "      <td>通信</td>\n",
       "      <td>4900</td>\n",
       "    </tr>\n",
       "  </tbody>\n",
       "</table>\n",
       "</div>"
      ],
      "text/plain": [
       "    year-month category  expen_cate\n",
       "155    2023-07       通信        4900"
      ]
     },
     "execution_count": 43,
     "metadata": {},
     "output_type": "execute_result"
    }
   ],
   "source": [
    "data_cate"
   ]
  },
  {
   "cell_type": "code",
   "execution_count": 48,
   "id": "23692f51-9697-4db3-b53e-f959b0d0bc9d",
   "metadata": {},
   "outputs": [
    {
     "name": "stdout",
     "output_type": "stream",
     "text": [
      "WARNING:tensorflow:Layer lstm will not use cuDNN kernels since it doesn't meet the criteria. It will use a generic GPU kernel as fallback when running on GPU.\n",
      "WARNING:tensorflow:Layer lstm_1 will not use cuDNN kernels since it doesn't meet the criteria. It will use a generic GPU kernel as fallback when running on GPU.\n"
     ]
    },
    {
     "name": "stderr",
     "output_type": "stream",
     "text": [
      "2024-12-21 09:56:33.194611: E tensorflow/core/grappler/optimizers/meta_optimizer.cc:954] model_pruner failed: INVALID_ARGUMENT: Graph does not contain terminal node AssignAddVariableOp_14.\n"
     ]
    },
    {
     "name": "stdout",
     "output_type": "stream",
     "text": [
      "1/1 [==============================] - 0s 184ms/step\n",
      "WARNING:tensorflow:Layer lstm will not use cuDNN kernels since it doesn't meet the criteria. It will use a generic GPU kernel as fallback when running on GPU.\n",
      "WARNING:tensorflow:Layer lstm_1 will not use cuDNN kernels since it doesn't meet the criteria. It will use a generic GPU kernel as fallback when running on GPU.\n"
     ]
    },
    {
     "name": "stderr",
     "output_type": "stream",
     "text": [
      "2024-12-21 09:56:36.428521: E tensorflow/core/grappler/optimizers/meta_optimizer.cc:954] model_pruner failed: INVALID_ARGUMENT: Graph does not contain terminal node AssignAddVariableOp_14.\n"
     ]
    },
    {
     "name": "stdout",
     "output_type": "stream",
     "text": [
      "1/1 [==============================] - 0s 169ms/step\n",
      "WARNING:tensorflow:Layer lstm will not use cuDNN kernels since it doesn't meet the criteria. It will use a generic GPU kernel as fallback when running on GPU.\n",
      "WARNING:tensorflow:Layer lstm_1 will not use cuDNN kernels since it doesn't meet the criteria. It will use a generic GPU kernel as fallback when running on GPU.\n"
     ]
    },
    {
     "name": "stderr",
     "output_type": "stream",
     "text": [
      "2024-12-21 09:56:39.498842: E tensorflow/core/grappler/optimizers/meta_optimizer.cc:954] model_pruner failed: INVALID_ARGUMENT: Graph does not contain terminal node AssignAddVariableOp_14.\n"
     ]
    },
    {
     "name": "stdout",
     "output_type": "stream",
     "text": [
      "1/1 [==============================] - 0s 177ms/step\n",
      "WARNING:tensorflow:Layer lstm will not use cuDNN kernels since it doesn't meet the criteria. It will use a generic GPU kernel as fallback when running on GPU.\n",
      "WARNING:tensorflow:Layer lstm_1 will not use cuDNN kernels since it doesn't meet the criteria. It will use a generic GPU kernel as fallback when running on GPU.\n"
     ]
    },
    {
     "name": "stderr",
     "output_type": "stream",
     "text": [
      "2024-12-21 09:56:42.594238: E tensorflow/core/grappler/optimizers/meta_optimizer.cc:954] model_pruner failed: INVALID_ARGUMENT: Graph does not contain terminal node AssignAddVariableOp_14.\n"
     ]
    },
    {
     "name": "stdout",
     "output_type": "stream",
     "text": [
      "1/1 [==============================] - 0s 173ms/step\n",
      "WARNING:tensorflow:Layer lstm will not use cuDNN kernels since it doesn't meet the criteria. It will use a generic GPU kernel as fallback when running on GPU.\n",
      "WARNING:tensorflow:Layer lstm_1 will not use cuDNN kernels since it doesn't meet the criteria. It will use a generic GPU kernel as fallback when running on GPU.\n"
     ]
    },
    {
     "name": "stderr",
     "output_type": "stream",
     "text": [
      "2024-12-21 09:56:45.685521: E tensorflow/core/grappler/optimizers/meta_optimizer.cc:954] model_pruner failed: INVALID_ARGUMENT: Graph does not contain terminal node AssignAddVariableOp_14.\n"
     ]
    },
    {
     "name": "stdout",
     "output_type": "stream",
     "text": [
      "1/1 [==============================] - 0s 174ms/step\n",
      "WARNING:tensorflow:Layer lstm will not use cuDNN kernels since it doesn't meet the criteria. It will use a generic GPU kernel as fallback when running on GPU.\n",
      "WARNING:tensorflow:Layer lstm_1 will not use cuDNN kernels since it doesn't meet the criteria. It will use a generic GPU kernel as fallback when running on GPU.\n"
     ]
    },
    {
     "name": "stderr",
     "output_type": "stream",
     "text": [
      "2024-12-21 09:56:48.802317: E tensorflow/core/grappler/optimizers/meta_optimizer.cc:954] model_pruner failed: INVALID_ARGUMENT: Graph does not contain terminal node AssignAddVariableOp_14.\n"
     ]
    },
    {
     "name": "stdout",
     "output_type": "stream",
     "text": [
      "1/1 [==============================] - 0s 175ms/step\n",
      "WARNING:tensorflow:Layer lstm will not use cuDNN kernels since it doesn't meet the criteria. It will use a generic GPU kernel as fallback when running on GPU.\n",
      "WARNING:tensorflow:Layer lstm_1 will not use cuDNN kernels since it doesn't meet the criteria. It will use a generic GPU kernel as fallback when running on GPU.\n"
     ]
    },
    {
     "name": "stderr",
     "output_type": "stream",
     "text": [
      "2024-12-21 09:56:51.888037: E tensorflow/core/grappler/optimizers/meta_optimizer.cc:954] model_pruner failed: INVALID_ARGUMENT: Graph does not contain terminal node AssignAddVariableOp_14.\n"
     ]
    },
    {
     "name": "stdout",
     "output_type": "stream",
     "text": [
      "1/1 [==============================] - 0s 174ms/step\n",
      "WARNING:tensorflow:Layer lstm will not use cuDNN kernels since it doesn't meet the criteria. It will use a generic GPU kernel as fallback when running on GPU.\n",
      "WARNING:tensorflow:Layer lstm_1 will not use cuDNN kernels since it doesn't meet the criteria. It will use a generic GPU kernel as fallback when running on GPU.\n"
     ]
    },
    {
     "name": "stderr",
     "output_type": "stream",
     "text": [
      "2024-12-21 09:56:57.457329: E tensorflow/core/grappler/optimizers/meta_optimizer.cc:954] model_pruner failed: INVALID_ARGUMENT: Graph does not contain terminal node AssignAddVariableOp_14.\n"
     ]
    },
    {
     "name": "stdout",
     "output_type": "stream",
     "text": [
      "1/1 [==============================] - 0s 182ms/step\n",
      "WARNING:tensorflow:Layer lstm will not use cuDNN kernels since it doesn't meet the criteria. It will use a generic GPU kernel as fallback when running on GPU.\n",
      "WARNING:tensorflow:Layer lstm_1 will not use cuDNN kernels since it doesn't meet the criteria. It will use a generic GPU kernel as fallback when running on GPU.\n"
     ]
    },
    {
     "name": "stderr",
     "output_type": "stream",
     "text": [
      "2024-12-21 09:57:00.631762: E tensorflow/core/grappler/optimizers/meta_optimizer.cc:954] model_pruner failed: INVALID_ARGUMENT: Graph does not contain terminal node AssignAddVariableOp_14.\n"
     ]
    },
    {
     "name": "stdout",
     "output_type": "stream",
     "text": [
      "1/1 [==============================] - 0s 163ms/step\n",
      "WARNING:tensorflow:Layer lstm will not use cuDNN kernels since it doesn't meet the criteria. It will use a generic GPU kernel as fallback when running on GPU.\n",
      "WARNING:tensorflow:Layer lstm_1 will not use cuDNN kernels since it doesn't meet the criteria. It will use a generic GPU kernel as fallback when running on GPU.\n"
     ]
    },
    {
     "name": "stderr",
     "output_type": "stream",
     "text": [
      "2024-12-21 09:57:03.768482: E tensorflow/core/grappler/optimizers/meta_optimizer.cc:954] model_pruner failed: INVALID_ARGUMENT: Graph does not contain terminal node AssignAddVariableOp_14.\n"
     ]
    },
    {
     "name": "stdout",
     "output_type": "stream",
     "text": [
      "1/1 [==============================] - 0s 163ms/step\n",
      "WARNING:tensorflow:Layer lstm will not use cuDNN kernels since it doesn't meet the criteria. It will use a generic GPU kernel as fallback when running on GPU.\n",
      "WARNING:tensorflow:Layer lstm_1 will not use cuDNN kernels since it doesn't meet the criteria. It will use a generic GPU kernel as fallback when running on GPU.\n"
     ]
    },
    {
     "name": "stderr",
     "output_type": "stream",
     "text": [
      "2024-12-21 09:57:06.791047: E tensorflow/core/grappler/optimizers/meta_optimizer.cc:954] model_pruner failed: INVALID_ARGUMENT: Graph does not contain terminal node AssignAddVariableOp_14.\n"
     ]
    },
    {
     "name": "stdout",
     "output_type": "stream",
     "text": [
      "1/1 [==============================] - 0s 166ms/step\n"
     ]
    }
   ],
   "source": [
    "# h5:モデルのアーキテクチャ、重み、トレーニング設定の全てを保存\n",
    "MODEL_PATH = \"model.h5\"\n",
    "\n",
    "# df_pred = pd.DataFrame(columns=[\"category\", \"prediction\"])\n",
    "cate_list = df_all_cate[\"category\"].unique()\n",
    "\n",
    "for target_cate in cate_list:\n",
    "    data_cate = df_all_cate[df_all_cate[\"category\"].str.contains(target_cate)].iloc[-12:].copy()\n",
    "    expen_cate = data_cate[\"expen_cate\"].values.reshape(-1, 1)\n",
    "    \n",
    "    if len(expen_cate) < 12:\n",
    "        continue\n",
    "        \n",
    "    # 正規化\n",
    "    scaler = MinMaxScaler(feature_range=(0, 1))\n",
    "    scaled_data = scaler.fit_transform(expen_cate)\n",
    "\n",
    "    step = 3\n",
    "    X, Y = sequences(scaled_data, step)\n",
    "\n",
    "    # モデルが存在するか確認しない場合は作成する\n",
    "    if os.path.exists(MODEL_PATH):\n",
    "        model = tf.keras.models.load_model(MODEL_PATH)\n",
    "    else:\n",
    "        # モデルが存在しない場合、新しく作成\n",
    "        model = tf.keras.Sequential()\n",
    "        model.add(tf.keras.layers.LSTM(50, activation=\"relu\", input_shape=(X.shape[1], X.shape[2]), return_sequences=True))\n",
    "        model.add(tf.keras.layers.LSTM(100, activation=\"relu\", return_sequences=False))\n",
    "        model.add(tf.keras.layers.Dense(1, activation=\"linear\"))\n",
    "        \n",
    "        model.compile(optimizer=\"adam\", loss=\"mean_squared_error\")\n",
    "    \n",
    "    # 学習\n",
    "    model.fit(X, Y, epochs=50, batch_size=32, verbose=0)\n",
    "\n",
    "    # モデルの保存\n",
    "    model.save(MODEL_PATH)\n",
    "\n",
    "    X_test = scaled_data[-step:].reshape(1, step, 1)\n",
    "    Y_pred = model.predict(X_test)\n",
    "    Y_pred_ = scaler.inverse_transform(Y_pred)\n",
    "\n",
    "    prediction = int(Y_pred_[0][0])\n",
    "    \n",
    "    df_pred = pd.DataFrame([{\n",
    "        \"year-month\": next_month,\n",
    "        \"category\": target_cate,\n",
    "        \"expen_cate\": prediction\n",
    "    }])\n",
    "\n",
    "    df_all_cate = pd.concat([df_all_cate, df_pred], ignore_index=True)"
   ]
  },
  {
   "cell_type": "code",
   "execution_count": 53,
   "id": "6879a60e-44c8-4588-83f7-92aae1162f4b",
   "metadata": {},
   "outputs": [],
   "source": [
    "df_all_cate.to_csv(\"df_all_pred.csv\", index=False)"
   ]
  }
 ],
 "metadata": {
  "kernelspec": {
   "display_name": "tf_env",
   "language": "python",
   "name": "tf_env"
  },
  "language_info": {
   "codemirror_mode": {
    "name": "ipython",
    "version": 3
   },
   "file_extension": ".py",
   "mimetype": "text/x-python",
   "name": "python",
   "nbconvert_exporter": "python",
   "pygments_lexer": "ipython3",
   "version": "3.9.16"
  }
 },
 "nbformat": 4,
 "nbformat_minor": 5
}
